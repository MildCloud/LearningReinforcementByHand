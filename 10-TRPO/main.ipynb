{
 "cells": [
  {
   "cell_type": "code",
   "execution_count": 1,
   "metadata": {},
   "outputs": [],
   "source": [
    "import gym\n",
    "import random\n",
    "import torch\n",
    "import torch.nn.functional as F\n",
    "import numpy as np\n",
    "import matplotlib.pyplot as plt\n",
    "from tqdm import tqdm\n",
    "import collections\n",
    "import copy"
   ]
  },
  {
   "cell_type": "markdown",
   "metadata": {},
   "source": [
    "Common functions definition"
   ]
  },
  {
   "cell_type": "code",
   "execution_count": 8,
   "metadata": {},
   "outputs": [],
   "source": [
    "class ReplayBuffer:\n",
    "    def __init__(self, capacity):\n",
    "        self.buffer = collections.deque(maxlen=capacity) \n",
    "\n",
    "    def add(self, state, action, reward, next_state, done): \n",
    "        self.buffer.append((state, action, reward, next_state, done)) \n",
    "\n",
    "    def sample(self, batch_size): \n",
    "        transitions = random.sample(self.buffer, batch_size)\n",
    "        state, action, reward, next_state, done = zip(*transitions)\n",
    "        return np.array(state), action, reward, np.array(next_state), done \n",
    "\n",
    "    def size(self): \n",
    "        return len(self.buffer)\n",
    "\n",
    "def moving_average(a, window_size):\n",
    "    cumulative_sum = np.cumsum(np.insert(a, 0, 0)) \n",
    "    middle = (cumulative_sum[window_size:] - cumulative_sum[:-window_size]) / window_size\n",
    "    r = np.arange(1, window_size-1, 2)\n",
    "    begin = np.cumsum(a[:window_size-1])[::2] / r\n",
    "    end = (np.cumsum(a[:-window_size:-1])[::2] / r)[::-1]\n",
    "    return np.concatenate((begin, middle, end))\n",
    "\n",
    "def train_on_policy_agent(env, agent, num_episodes):\n",
    "    return_list = []\n",
    "    for i in range(10):\n",
    "        with tqdm(total=int(num_episodes/10), desc='Iteration %d' % i) as pbar:\n",
    "            for i_episode in range(int(num_episodes/10)):\n",
    "                episode_return = 0\n",
    "                transition_dict = {'states': [], 'actions': [], 'next_states': [], 'rewards': [], 'dones': []}\n",
    "                state = env.reset()\n",
    "                done = False\n",
    "                while not done:\n",
    "                    action = agent.take_action(state)\n",
    "                    next_state, reward, done, _ = env.step(action)\n",
    "                    transition_dict['states'].append(state)\n",
    "                    transition_dict['actions'].append(action)\n",
    "                    transition_dict['next_states'].append(next_state)\n",
    "                    transition_dict['rewards'].append(reward)\n",
    "                    transition_dict['dones'].append(done)\n",
    "                    state = next_state\n",
    "                    episode_return += reward\n",
    "                return_list.append(episode_return)\n",
    "                agent.update(transition_dict)\n",
    "                if (i_episode+1) % 10 == 0:\n",
    "                    pbar.set_postfix({'episode': '%d' % (num_episodes/10 * i + i_episode+1), 'return': '%.3f' % np.mean(return_list[-10:])})\n",
    "                pbar.update(1)\n",
    "    return return_list\n",
    "\n",
    "def train_off_policy_agent(env, agent, num_episodes, replay_buffer, minimal_size, batch_size):\n",
    "    return_list = []\n",
    "    for i in range(10):\n",
    "        with tqdm(total=int(num_episodes/10), desc='Iteration %d' % i) as pbar:\n",
    "            for i_episode in range(int(num_episodes/10)):\n",
    "                episode_return = 0\n",
    "                state = env.reset()\n",
    "                done = False\n",
    "                while not done:\n",
    "                    action = agent.take_action(state)\n",
    "                    next_state, reward, done, _ = env.step(action)\n",
    "                    replay_buffer.add(state, action, reward, next_state, done)\n",
    "                    state = next_state\n",
    "                    episode_return += reward\n",
    "                    if replay_buffer.size() > minimal_size:\n",
    "                        b_s, b_a, b_r, b_ns, b_d = replay_buffer.sample(batch_size)\n",
    "                        transition_dict = {'states': b_s, 'actions': b_a, 'next_states': b_ns, 'rewards': b_r, 'dones': b_d}\n",
    "                        agent.update(transition_dict)\n",
    "                return_list.append(episode_return)\n",
    "                if (i_episode+1) % 10 == 0:\n",
    "                    pbar.set_postfix({'episode': '%d' % (num_episodes/10 * i + i_episode+1), 'return': '%.3f' % np.mean(return_list[-10:])})\n",
    "                pbar.update(1)\n",
    "    return return_list\n",
    "\n",
    "\n",
    "def compute_advantage(gamma, lmbda, td_delta):\n",
    "    print(td_delta.shape)\n",
    "    # torch.Size([len of trajectory, 1])\n",
    "    td_delta = td_delta.detach().numpy()\n",
    "    advantage_list = []\n",
    "    advantage = 0.0\n",
    "    for delta in td_delta[::-1]:\n",
    "        advantage = gamma * lmbda * advantage + delta\n",
    "        advantage_list.append(advantage)\n",
    "    advantage_list.reverse()\n",
    "    return torch.tensor(advantage_list, dtype=torch.float)"
   ]
  },
  {
   "cell_type": "code",
   "execution_count": 3,
   "metadata": {},
   "outputs": [],
   "source": [
    "class PolicyNet(torch.nn.Module):\n",
    "    def __init__(self, state_dim, hidden_dim, action_dim):\n",
    "        super(PolicyNet, self).__init__()\n",
    "        self.fc1 = torch.nn.Linear(state_dim, hidden_dim)\n",
    "        self.fc2 = torch.nn.Linear(hidden_dim, action_dim)\n",
    "\n",
    "    def forward(self, x):\n",
    "        x = F.relu(self.fc1(x))\n",
    "        return F.softmax(self.fc2(x), dim=1)\n",
    "\n",
    "\n",
    "class ValueNet(torch.nn.Module):\n",
    "    def __init__(self, state_dim, hidden_dim):\n",
    "        super(ValueNet, self).__init__()\n",
    "        self.fc1 = torch.nn.Linear(state_dim, hidden_dim)\n",
    "        self.fc2 = torch.nn.Linear(hidden_dim, 1)\n",
    "\n",
    "    def forward(self, x):\n",
    "        x = F.relu(self.fc1(x))\n",
    "        return self.fc2(x)\n",
    "\n",
    "\n",
    "class TRPO:\n",
    "    \"\"\" TRPO算法 \"\"\"\n",
    "    def __init__(self, hidden_dim, state_space, action_space, lmbda,\n",
    "                 kl_constraint, alpha, critic_lr, gamma, device):\n",
    "        state_dim = state_space.shape[0]\n",
    "        action_dim = action_space.n\n",
    "        # 策略网络参数不需要优化器更新\n",
    "        self.actor = PolicyNet(state_dim, hidden_dim, action_dim).to(device)\n",
    "        self.critic = ValueNet(state_dim, hidden_dim).to(device)\n",
    "        self.critic_optimizer = torch.optim.Adam(self.critic.parameters(),\n",
    "                                                 lr=critic_lr)\n",
    "        self.gamma = gamma\n",
    "        self.lmbda = lmbda  # GAE参数\n",
    "        self.kl_constraint = kl_constraint  # KL距离最大限制\n",
    "        self.alpha = alpha  # 线性搜索参数\n",
    "        self.device = device\n",
    "\n",
    "    def take_action(self, state):\n",
    "        state = torch.tensor([state], dtype=torch.float).to(self.device)\n",
    "        probs = self.actor(state)\n",
    "        action_dist = torch.distributions.Categorical(probs)\n",
    "        action = action_dist.sample()\n",
    "        return action.item()\n",
    "\n",
    "    def hessian_matrix_vector_product(self, states, old_action_dists, vector):\n",
    "        # 计算黑塞矩阵和一个向量的乘积\n",
    "        new_action_dists = torch.distributions.Categorical(self.actor(states))\n",
    "        kl = torch.mean(\n",
    "            torch.distributions.kl.kl_divergence(old_action_dists,\n",
    "                                                 new_action_dists))  # 计算平均KL距离\n",
    "        kl_grad = torch.autograd.grad(kl,\n",
    "                                      self.actor.parameters(),\n",
    "                                      create_graph=True)\n",
    "        kl_grad_vector = torch.cat([grad.view(-1) for grad in kl_grad])\n",
    "        # KL距离的梯度先和向量进行点积运算\n",
    "        kl_grad_vector_product = torch.dot(kl_grad_vector, vector)\n",
    "        grad2 = torch.autograd.grad(kl_grad_vector_product,\n",
    "                                    self.actor.parameters())\n",
    "        grad2_vector = torch.cat([grad.view(-1) for grad in grad2])\n",
    "        return grad2_vector\n",
    "\n",
    "    def conjugate_gradient(self, grad, states, old_action_dists):  # 共轭梯度法求解方程\n",
    "        x = torch.zeros_like(grad)\n",
    "        r = grad.clone()\n",
    "        p = grad.clone()\n",
    "        rdotr = torch.dot(r, r)\n",
    "        for i in range(10):  # 共轭梯度主循环\n",
    "            Hp = self.hessian_matrix_vector_product(states, old_action_dists,\n",
    "                                                    p)\n",
    "            alpha = rdotr / torch.dot(p, Hp)\n",
    "            x += alpha * p\n",
    "            r -= alpha * Hp\n",
    "            new_rdotr = torch.dot(r, r)\n",
    "            if new_rdotr < 1e-10:\n",
    "                break\n",
    "            beta = new_rdotr / rdotr\n",
    "            p = r + beta * p\n",
    "            rdotr = new_rdotr\n",
    "        return x\n",
    "\n",
    "    def compute_surrogate_obj(self, states, actions, advantage, old_log_probs,\n",
    "                              actor):  # 计算策略目标\n",
    "        log_probs = torch.log(actor(states).gather(1, actions))\n",
    "        ratio = torch.exp(log_probs - old_log_probs)\n",
    "        return torch.mean(ratio * advantage)\n",
    "\n",
    "    def line_search(self, states, actions, advantage, old_log_probs,\n",
    "                    old_action_dists, max_vec):  # 线性搜索\n",
    "        old_para = torch.nn.utils.convert_parameters.parameters_to_vector(\n",
    "            self.actor.parameters())\n",
    "        old_obj = self.compute_surrogate_obj(states, actions, advantage,\n",
    "                                             old_log_probs, self.actor)\n",
    "        for i in range(15):  # 线性搜索主循环\n",
    "            coef = self.alpha**i\n",
    "            new_para = old_para + coef * max_vec\n",
    "            new_actor = copy.deepcopy(self.actor)\n",
    "            torch.nn.utils.convert_parameters.vector_to_parameters(\n",
    "                new_para, new_actor.parameters())\n",
    "            new_action_dists = torch.distributions.Categorical(\n",
    "                new_actor(states))\n",
    "            kl_div = torch.mean(\n",
    "                torch.distributions.kl.kl_divergence(old_action_dists,\n",
    "                                                     new_action_dists))\n",
    "            new_obj = self.compute_surrogate_obj(states, actions, advantage,\n",
    "                                                 old_log_probs, new_actor)\n",
    "            if new_obj > old_obj and kl_div < self.kl_constraint:\n",
    "                return new_para\n",
    "        return old_para\n",
    "\n",
    "    def policy_learn(self, states, actions, old_action_dists, old_log_probs,\n",
    "                     advantage):  # 更新策略函数\n",
    "        surrogate_obj = self.compute_surrogate_obj(states, actions, advantage,\n",
    "                                                   old_log_probs, self.actor)\n",
    "        grads = torch.autograd.grad(surrogate_obj, self.actor.parameters())\n",
    "        obj_grad = torch.cat([grad.view(-1) for grad in grads]).detach()\n",
    "        # 用共轭梯度法计算x = H^(-1)g\n",
    "        descent_direction = self.conjugate_gradient(obj_grad, states,\n",
    "                                                    old_action_dists)\n",
    "\n",
    "        Hd = self.hessian_matrix_vector_product(states, old_action_dists,\n",
    "                                                descent_direction)\n",
    "        max_coef = torch.sqrt(2 * self.kl_constraint /\n",
    "                              (torch.dot(descent_direction, Hd) + 1e-8))\n",
    "        new_para = self.line_search(states, actions, advantage, old_log_probs,\n",
    "                                    old_action_dists,\n",
    "                                    descent_direction * max_coef)  # 线性搜索\n",
    "        torch.nn.utils.convert_parameters.vector_to_parameters(\n",
    "            new_para, self.actor.parameters())  # 用线性搜索后的参数更新策略\n",
    "\n",
    "    def update(self, transition_dict):\n",
    "        states = torch.tensor(transition_dict['states'],\n",
    "                              dtype=torch.float).to(self.device)\n",
    "        actions = torch.tensor(transition_dict['actions']).view(-1, 1).to(\n",
    "            self.device)\n",
    "        rewards = torch.tensor(transition_dict['rewards'],\n",
    "                               dtype=torch.float).view(-1, 1).to(self.device)\n",
    "        next_states = torch.tensor(transition_dict['next_states'],\n",
    "                                   dtype=torch.float).to(self.device)\n",
    "        dones = torch.tensor(transition_dict['dones'],\n",
    "                             dtype=torch.float).view(-1, 1).to(self.device)\n",
    "        td_target = rewards + self.gamma * self.critic(next_states) * (1 - dones)\n",
    "        td_delta = td_target - self.critic(states)\n",
    "        advantage = compute_advantage(self.gamma, self.lmbda, td_delta.cpu()).to(self.device)\n",
    "        old_log_probs = torch.log(self.actor(states).gather(1, actions)).detach()\n",
    "        old_action_dists = torch.distributions.Categorical(self.actor(states).detach())\n",
    "        critic_loss = torch.mean(F.mse_loss(self.critic(states), td_target.detach()))\n",
    "        self.critic_optimizer.zero_grad()\n",
    "        critic_loss.backward()\n",
    "        self.critic_optimizer.step()  # 更新价值函数\n",
    "        # 更新策略函数\n",
    "        self.policy_learn(states, actions, old_action_dists, old_log_probs, advantage)"
   ]
  },
  {
   "cell_type": "code",
   "execution_count": 10,
   "metadata": {},
   "outputs": [
    {
     "name": "stderr",
     "output_type": "stream",
     "text": [
      "Iteration 0:   4%|▍         | 2/50 [00:00<00:02, 16.75it/s]"
     ]
    },
    {
     "name": "stdout",
     "output_type": "stream",
     "text": [
      "torch.Size([20, 1])\n",
      "torch.Size([10, 1])\n",
      "torch.Size([17, 1])\n",
      "torch.Size([14, 1])\n"
     ]
    },
    {
     "name": "stderr",
     "output_type": "stream",
     "text": [
      "Iteration 0:  16%|█▌        | 8/50 [00:00<00:02, 17.37it/s]"
     ]
    },
    {
     "name": "stdout",
     "output_type": "stream",
     "text": [
      "torch.Size([50, 1])\n",
      "torch.Size([20, 1])\n",
      "torch.Size([17, 1])\n",
      "torch.Size([11, 1])\n"
     ]
    },
    {
     "name": "stderr",
     "output_type": "stream",
     "text": [
      "Iteration 0:  20%|██        | 10/50 [00:00<00:02, 14.11it/s, episode=10, return=27.400]"
     ]
    },
    {
     "name": "stdout",
     "output_type": "stream",
     "text": [
      "torch.Size([71, 1])\n",
      "torch.Size([44, 1])\n",
      "torch.Size([91, 1])\n"
     ]
    },
    {
     "name": "stderr",
     "output_type": "stream",
     "text": [
      "Iteration 0:  28%|██▊       | 14/50 [00:00<00:02, 14.78it/s, episode=10, return=27.400]"
     ]
    },
    {
     "name": "stdout",
     "output_type": "stream",
     "text": [
      "torch.Size([29, 1])\n",
      "torch.Size([27, 1])\n",
      "torch.Size([43, 1])\n",
      "torch.Size([33, 1])\n"
     ]
    },
    {
     "name": "stderr",
     "output_type": "stream",
     "text": [
      "Iteration 0:  36%|███▌      | 18/50 [00:01<00:02, 15.61it/s, episode=10, return=27.400]"
     ]
    },
    {
     "name": "stdout",
     "output_type": "stream",
     "text": [
      "torch.Size([52, 1])\n",
      "torch.Size([69, 1])\n",
      "torch.Size([32, 1])\n",
      "torch.Size([24, 1])\n"
     ]
    },
    {
     "name": "stderr",
     "output_type": "stream",
     "text": [
      "Iteration 0:  40%|████      | 20/50 [00:01<00:01, 15.80it/s, episode=20, return=48.200]"
     ]
    },
    {
     "name": "stdout",
     "output_type": "stream",
     "text": [
      "torch.Size([82, 1])\n",
      "torch.Size([53, 1])\n",
      "torch.Size([152, 1])\n"
     ]
    },
    {
     "name": "stderr",
     "output_type": "stream",
     "text": [
      "Iteration 0:  48%|████▊     | 24/50 [00:01<00:01, 14.29it/s, episode=20, return=48.200]"
     ]
    },
    {
     "name": "stdout",
     "output_type": "stream",
     "text": [
      "torch.Size([33, 1])\n",
      "torch.Size([65, 1])\n",
      "torch.Size([63, 1])\n"
     ]
    },
    {
     "name": "stderr",
     "output_type": "stream",
     "text": [
      "Iteration 0:  52%|█████▏    | 26/50 [00:01<00:01, 14.27it/s, episode=20, return=48.200]"
     ]
    },
    {
     "name": "stdout",
     "output_type": "stream",
     "text": [
      "torch.Size([90, 1])\n",
      "torch.Size([91, 1])\n"
     ]
    },
    {
     "name": "stderr",
     "output_type": "stream",
     "text": [
      "Iteration 0:  56%|█████▌    | 28/50 [00:01<00:01, 12.50it/s, episode=20, return=48.200]"
     ]
    },
    {
     "name": "stdout",
     "output_type": "stream",
     "text": [
      "torch.Size([184, 1])\n",
      "torch.Size([109, 1])\n",
      "torch.Size([95, 1])\n"
     ]
    },
    {
     "name": "stderr",
     "output_type": "stream",
     "text": [
      "Iteration 0:  64%|██████▍   | 32/50 [00:02<00:01, 12.64it/s, episode=30, return=93.500]"
     ]
    },
    {
     "name": "stdout",
     "output_type": "stream",
     "text": [
      "torch.Size([85, 1])\n",
      "torch.Size([59, 1])\n",
      "torch.Size([126, 1])\n"
     ]
    },
    {
     "name": "stderr",
     "output_type": "stream",
     "text": [
      "Iteration 0:  72%|███████▏  | 36/50 [00:02<00:01, 12.72it/s, episode=30, return=93.500]"
     ]
    },
    {
     "name": "stdout",
     "output_type": "stream",
     "text": [
      "torch.Size([70, 1])\n",
      "torch.Size([65, 1])\n",
      "torch.Size([61, 1])\n"
     ]
    },
    {
     "name": "stderr",
     "output_type": "stream",
     "text": [
      "Iteration 0:  76%|███████▌  | 38/50 [00:02<00:00, 13.07it/s, episode=30, return=93.500]"
     ]
    },
    {
     "name": "stdout",
     "output_type": "stream",
     "text": [
      "torch.Size([57, 1])\n",
      "torch.Size([60, 1])\n",
      "torch.Size([87, 1])\n"
     ]
    },
    {
     "name": "stderr",
     "output_type": "stream",
     "text": [
      "Iteration 0:  80%|████████  | 40/50 [00:02<00:00, 13.05it/s, episode=40, return=72.000]"
     ]
    },
    {
     "name": "stdout",
     "output_type": "stream",
     "text": [
      "torch.Size([50, 1])\n",
      "torch.Size([164, 1])\n"
     ]
    },
    {
     "name": "stderr",
     "output_type": "stream",
     "text": [
      "Iteration 0:  88%|████████▊ | 44/50 [00:03<00:00, 11.98it/s, episode=40, return=72.000]"
     ]
    },
    {
     "name": "stdout",
     "output_type": "stream",
     "text": [
      "torch.Size([139, 1])\n",
      "torch.Size([93, 1])\n",
      "torch.Size([47, 1])\n"
     ]
    },
    {
     "name": "stderr",
     "output_type": "stream",
     "text": [
      "Iteration 0:  92%|█████████▏| 46/50 [00:03<00:00, 12.47it/s, episode=40, return=72.000]"
     ]
    },
    {
     "name": "stdout",
     "output_type": "stream",
     "text": [
      "torch.Size([81, 1])\n",
      "torch.Size([68, 1])\n",
      "torch.Size([97, 1])\n"
     ]
    },
    {
     "name": "stderr",
     "output_type": "stream",
     "text": [
      "Iteration 0: 100%|██████████| 50/50 [00:03<00:00, 13.47it/s, episode=50, return=90.400]\n"
     ]
    },
    {
     "name": "stdout",
     "output_type": "stream",
     "text": [
      "torch.Size([59, 1])\n",
      "torch.Size([73, 1])\n",
      "torch.Size([83, 1])\n"
     ]
    },
    {
     "name": "stderr",
     "output_type": "stream",
     "text": [
      "Iteration 1:   4%|▍         | 2/50 [00:00<00:03, 12.16it/s]"
     ]
    },
    {
     "name": "stdout",
     "output_type": "stream",
     "text": [
      "torch.Size([75, 1])\n",
      "torch.Size([94, 1])\n",
      "torch.Size([70, 1])\n"
     ]
    },
    {
     "name": "stderr",
     "output_type": "stream",
     "text": [
      "Iteration 1:  12%|█▏        | 6/50 [00:00<00:03, 13.95it/s]"
     ]
    },
    {
     "name": "stdout",
     "output_type": "stream",
     "text": [
      "torch.Size([50, 1])\n",
      "torch.Size([56, 1])\n",
      "torch.Size([97, 1])\n"
     ]
    },
    {
     "name": "stderr",
     "output_type": "stream",
     "text": [
      "Iteration 1:  16%|█▌        | 8/50 [00:00<00:03, 13.22it/s]"
     ]
    },
    {
     "name": "stdout",
     "output_type": "stream",
     "text": [
      "torch.Size([90, 1])\n",
      "torch.Size([72, 1])\n",
      "torch.Size([76, 1])\n"
     ]
    },
    {
     "name": "stderr",
     "output_type": "stream",
     "text": [
      "Iteration 1:  24%|██▍       | 12/50 [00:00<00:03, 12.64it/s, episode=60, return=76.200]"
     ]
    },
    {
     "name": "stdout",
     "output_type": "stream",
     "text": [
      "torch.Size([82, 1])\n",
      "torch.Size([98, 1])\n",
      "torch.Size([68, 1])\n"
     ]
    },
    {
     "name": "stderr",
     "output_type": "stream",
     "text": [
      "Iteration 1:  28%|██▊       | 14/50 [00:01<00:03, 11.22it/s, episode=60, return=76.200]"
     ]
    },
    {
     "name": "stdout",
     "output_type": "stream",
     "text": [
      "torch.Size([127, 1])\n",
      "torch.Size([133, 1])\n",
      "torch.Size([88, 1])\n"
     ]
    },
    {
     "name": "stderr",
     "output_type": "stream",
     "text": [
      "Iteration 1:  36%|███▌      | 18/50 [00:01<00:02, 11.75it/s, episode=60, return=76.200]"
     ]
    },
    {
     "name": "stdout",
     "output_type": "stream",
     "text": [
      "torch.Size([89, 1])\n",
      "torch.Size([85, 1])\n",
      "torch.Size([60, 1])\n"
     ]
    },
    {
     "name": "stderr",
     "output_type": "stream",
     "text": [
      "Iteration 1:  40%|████      | 20/50 [00:01<00:02, 12.37it/s, episode=70, return=89.900]"
     ]
    },
    {
     "name": "stdout",
     "output_type": "stream",
     "text": [
      "torch.Size([86, 1])\n",
      "torch.Size([65, 1])\n",
      "torch.Size([166, 1])\n"
     ]
    },
    {
     "name": "stderr",
     "output_type": "stream",
     "text": [
      "Iteration 1:  48%|████▊     | 24/50 [00:01<00:02, 11.79it/s, episode=70, return=89.900]"
     ]
    },
    {
     "name": "stdout",
     "output_type": "stream",
     "text": [
      "torch.Size([74, 1])\n",
      "torch.Size([99, 1])\n",
      "torch.Size([86, 1])\n"
     ]
    },
    {
     "name": "stderr",
     "output_type": "stream",
     "text": [
      "Iteration 1:  52%|█████▏    | 26/50 [00:02<00:01, 12.28it/s, episode=70, return=89.900]"
     ]
    },
    {
     "name": "stdout",
     "output_type": "stream",
     "text": [
      "torch.Size([72, 1])\n",
      "torch.Size([86, 1])\n",
      "torch.Size([97, 1])\n"
     ]
    },
    {
     "name": "stderr",
     "output_type": "stream",
     "text": [
      "Iteration 1:  56%|█████▌    | 28/50 [00:02<00:01, 11.51it/s, episode=70, return=89.900]"
     ]
    },
    {
     "name": "stdout",
     "output_type": "stream",
     "text": [
      "torch.Size([147, 1])\n",
      "torch.Size([62, 1])\n",
      "torch.Size([118, 1])\n"
     ]
    },
    {
     "name": "stderr",
     "output_type": "stream",
     "text": [
      "Iteration 1:  64%|██████▍   | 32/50 [00:02<00:01, 11.51it/s, episode=80, return=100.700]"
     ]
    },
    {
     "name": "stdout",
     "output_type": "stream",
     "text": [
      "torch.Size([87, 1])\n",
      "torch.Size([152, 1])\n",
      "torch.Size([95, 1])\n"
     ]
    },
    {
     "name": "stderr",
     "output_type": "stream",
     "text": [
      "Iteration 1:  68%|██████▊   | 34/50 [00:02<00:01, 11.59it/s, episode=80, return=100.700]"
     ]
    },
    {
     "name": "stdout",
     "output_type": "stream",
     "text": [
      "torch.Size([127, 1])\n",
      "torch.Size([152, 1])\n",
      "torch.Size([87, 1])\n"
     ]
    },
    {
     "name": "stderr",
     "output_type": "stream",
     "text": [
      "Iteration 1:  76%|███████▌  | 38/50 [00:03<00:01, 10.26it/s, episode=80, return=100.700]"
     ]
    },
    {
     "name": "stdout",
     "output_type": "stream",
     "text": [
      "torch.Size([89, 1])\n",
      "torch.Size([152, 1])\n",
      "torch.Size([87, 1])\n"
     ]
    },
    {
     "name": "stderr",
     "output_type": "stream",
     "text": [
      "Iteration 1:  80%|████████  | 40/50 [00:03<00:00, 10.68it/s, episode=90, return=112.500]"
     ]
    },
    {
     "name": "stdout",
     "output_type": "stream",
     "text": [
      "torch.Size([97, 1])\n",
      "torch.Size([72, 1])\n",
      "torch.Size([85, 1])\n"
     ]
    },
    {
     "name": "stderr",
     "output_type": "stream",
     "text": [
      "Iteration 1:  88%|████████▊ | 44/50 [00:03<00:00, 11.29it/s, episode=90, return=112.500]"
     ]
    },
    {
     "name": "stdout",
     "output_type": "stream",
     "text": [
      "torch.Size([50, 1])\n",
      "torch.Size([134, 1])\n",
      "torch.Size([86, 1])\n"
     ]
    },
    {
     "name": "stderr",
     "output_type": "stream",
     "text": [
      "Iteration 1:  96%|█████████▌| 48/50 [00:04<00:00, 11.88it/s, episode=90, return=112.500]"
     ]
    },
    {
     "name": "stdout",
     "output_type": "stream",
     "text": [
      "torch.Size([93, 1])\n",
      "torch.Size([59, 1])\n",
      "torch.Size([89, 1])\n"
     ]
    },
    {
     "name": "stderr",
     "output_type": "stream",
     "text": [
      "Iteration 1: 100%|██████████| 50/50 [00:04<00:00, 11.76it/s, episode=100, return=80.100]\n"
     ]
    },
    {
     "name": "stdout",
     "output_type": "stream",
     "text": [
      "torch.Size([54, 1])\n",
      "torch.Size([79, 1])\n"
     ]
    },
    {
     "name": "stderr",
     "output_type": "stream",
     "text": [
      "Iteration 2:   0%|          | 0/50 [00:00<?, ?it/s]"
     ]
    },
    {
     "name": "stdout",
     "output_type": "stream",
     "text": [
      "torch.Size([67, 1])\n"
     ]
    },
    {
     "name": "stderr",
     "output_type": "stream",
     "text": [
      "Iteration 2:   4%|▍         | 2/50 [00:00<00:04, 10.32it/s]"
     ]
    },
    {
     "name": "stdout",
     "output_type": "stream",
     "text": [
      "torch.Size([122, 1])\n",
      "torch.Size([161, 1])\n"
     ]
    },
    {
     "name": "stderr",
     "output_type": "stream",
     "text": [
      "Iteration 2:   8%|▊         | 4/50 [00:00<00:04,  9.22it/s]"
     ]
    },
    {
     "name": "stdout",
     "output_type": "stream",
     "text": [
      "torch.Size([126, 1])\n",
      "torch.Size([81, 1])\n"
     ]
    },
    {
     "name": "stderr",
     "output_type": "stream",
     "text": [
      "Iteration 2:  12%|█▏        | 6/50 [00:00<00:04, 10.61it/s]"
     ]
    },
    {
     "name": "stdout",
     "output_type": "stream",
     "text": [
      "torch.Size([60, 1])\n",
      "torch.Size([200, 1])\n"
     ]
    },
    {
     "name": "stderr",
     "output_type": "stream",
     "text": [
      "Iteration 2:  16%|█▌        | 8/50 [00:00<00:04,  9.50it/s]"
     ]
    },
    {
     "name": "stdout",
     "output_type": "stream",
     "text": [
      "torch.Size([94, 1])\n"
     ]
    },
    {
     "name": "stderr",
     "output_type": "stream",
     "text": [
      "Iteration 2:  18%|█▊        | 9/50 [00:00<00:04,  8.81it/s]"
     ]
    },
    {
     "name": "stdout",
     "output_type": "stream",
     "text": [
      "torch.Size([147, 1])\n"
     ]
    },
    {
     "name": "stderr",
     "output_type": "stream",
     "text": [
      "Iteration 2:  18%|█▊        | 9/50 [00:01<00:04,  8.81it/s, episode=110, return=113.500]"
     ]
    },
    {
     "name": "stdout",
     "output_type": "stream",
     "text": [
      "torch.Size([77, 1])\n"
     ]
    },
    {
     "name": "stderr",
     "output_type": "stream",
     "text": [
      "Iteration 2:  22%|██▏       | 11/50 [00:01<00:04,  9.17it/s, episode=110, return=113.500]"
     ]
    },
    {
     "name": "stdout",
     "output_type": "stream",
     "text": [
      "torch.Size([127, 1])\n",
      "torch.Size([101, 1])\n",
      "torch.Size([111, 1])\n"
     ]
    },
    {
     "name": "stderr",
     "output_type": "stream",
     "text": [
      "Iteration 2:  26%|██▌       | 13/50 [00:01<00:03,  9.61it/s, episode=110, return=113.500]"
     ]
    },
    {
     "name": "stdout",
     "output_type": "stream",
     "text": [
      "torch.Size([97, 1])\n"
     ]
    },
    {
     "name": "stderr",
     "output_type": "stream",
     "text": [
      "Iteration 2:  30%|███       | 15/50 [00:01<00:03, 10.07it/s, episode=110, return=113.500]"
     ]
    },
    {
     "name": "stdout",
     "output_type": "stream",
     "text": [
      "torch.Size([94, 1])\n",
      "torch.Size([64, 1])\n",
      "torch.Size([149, 1])\n"
     ]
    },
    {
     "name": "stderr",
     "output_type": "stream",
     "text": [
      "Iteration 2:  34%|███▍      | 17/50 [00:01<00:03, 10.11it/s, episode=110, return=113.500]"
     ]
    },
    {
     "name": "stdout",
     "output_type": "stream",
     "text": [
      "torch.Size([106, 1])\n",
      "torch.Size([76, 1])\n"
     ]
    },
    {
     "name": "stderr",
     "output_type": "stream",
     "text": [
      "Iteration 2:  38%|███▊      | 19/50 [00:01<00:02, 10.57it/s, episode=110, return=113.500]"
     ]
    },
    {
     "name": "stdout",
     "output_type": "stream",
     "text": [
      "torch.Size([118, 1])\n"
     ]
    },
    {
     "name": "stderr",
     "output_type": "stream",
     "text": [
      "Iteration 2:  42%|████▏     | 21/50 [00:02<00:02,  9.88it/s, episode=120, return=104.300]"
     ]
    },
    {
     "name": "stdout",
     "output_type": "stream",
     "text": [
      "torch.Size([142, 1])\n",
      "torch.Size([100, 1])\n",
      "torch.Size([97, 1])\n"
     ]
    },
    {
     "name": "stderr",
     "output_type": "stream",
     "text": [
      "Iteration 2:  46%|████▌     | 23/50 [00:02<00:02, 10.22it/s, episode=120, return=104.300]"
     ]
    },
    {
     "name": "stdout",
     "output_type": "stream",
     "text": [
      "torch.Size([91, 1])\n"
     ]
    },
    {
     "name": "stderr",
     "output_type": "stream",
     "text": [
      "Iteration 2:  50%|█████     | 25/50 [00:02<00:02, 10.20it/s, episode=120, return=104.300]"
     ]
    },
    {
     "name": "stdout",
     "output_type": "stream",
     "text": [
      "torch.Size([150, 1])\n",
      "torch.Size([115, 1])\n"
     ]
    },
    {
     "name": "stderr",
     "output_type": "stream",
     "text": [
      "Iteration 2:  54%|█████▍    | 27/50 [00:02<00:02,  9.64it/s, episode=120, return=104.300]"
     ]
    },
    {
     "name": "stdout",
     "output_type": "stream",
     "text": [
      "torch.Size([154, 1])\n",
      "torch.Size([94, 1])\n",
      "torch.Size([103, 1])\n"
     ]
    },
    {
     "name": "stderr",
     "output_type": "stream",
     "text": [
      "Iteration 2:  58%|█████▊    | 29/50 [00:02<00:02, 10.16it/s, episode=120, return=104.300]"
     ]
    },
    {
     "name": "stdout",
     "output_type": "stream",
     "text": [
      "torch.Size([110, 1])\n"
     ]
    },
    {
     "name": "stderr",
     "output_type": "stream",
     "text": [
      "Iteration 2:  62%|██████▏   | 31/50 [00:03<00:01,  9.73it/s, episode=130, return=115.600]"
     ]
    },
    {
     "name": "stdout",
     "output_type": "stream",
     "text": [
      "torch.Size([116, 1])\n"
     ]
    },
    {
     "name": "stderr",
     "output_type": "stream",
     "text": [
      "Iteration 2:  64%|██████▍   | 32/50 [00:03<00:01,  9.48it/s, episode=130, return=115.600]"
     ]
    },
    {
     "name": "stdout",
     "output_type": "stream",
     "text": [
      "torch.Size([164, 1])\n"
     ]
    },
    {
     "name": "stderr",
     "output_type": "stream",
     "text": [
      "Iteration 2:  64%|██████▍   | 32/50 [00:03<00:01,  9.47it/s, episode=130, return=115.600]"
     ]
    },
    {
     "name": "stdout",
     "output_type": "stream",
     "text": [
      "torch.Size([137, 1])\n"
     ]
    },
    {
     "name": "stderr",
     "output_type": "stream",
     "text": [
      "\n"
     ]
    },
    {
     "ename": "KeyboardInterrupt",
     "evalue": "",
     "output_type": "error",
     "traceback": [
      "\u001b[0;31m---------------------------------------------------------------------------\u001b[0m",
      "\u001b[0;31mKeyboardInterrupt\u001b[0m                         Traceback (most recent call last)",
      "\u001b[1;32m/home/tianshu/LearningReinforcementByHand/10-TRPO/main.ipynb Cell 5\u001b[0m line \u001b[0;36m1\n\u001b[1;32m     <a href='vscode-notebook-cell://wsl%2Bubuntu-22.04/home/tianshu/LearningReinforcementByHand/10-TRPO/main.ipynb#W4sdnNjb2RlLXJlbW90ZQ%3D%3D?line=13'>14</a>\u001b[0m torch\u001b[39m.\u001b[39mmanual_seed(\u001b[39m0\u001b[39m)\n\u001b[1;32m     <a href='vscode-notebook-cell://wsl%2Bubuntu-22.04/home/tianshu/LearningReinforcementByHand/10-TRPO/main.ipynb#W4sdnNjb2RlLXJlbW90ZQ%3D%3D?line=14'>15</a>\u001b[0m agent \u001b[39m=\u001b[39m TRPO(hidden_dim, env\u001b[39m.\u001b[39mobservation_space, env\u001b[39m.\u001b[39maction_space, lmbda,\n\u001b[1;32m     <a href='vscode-notebook-cell://wsl%2Bubuntu-22.04/home/tianshu/LearningReinforcementByHand/10-TRPO/main.ipynb#W4sdnNjb2RlLXJlbW90ZQ%3D%3D?line=15'>16</a>\u001b[0m              kl_constraint, alpha, critic_lr, gamma, device)\n\u001b[0;32m---> <a href='vscode-notebook-cell://wsl%2Bubuntu-22.04/home/tianshu/LearningReinforcementByHand/10-TRPO/main.ipynb#W4sdnNjb2RlLXJlbW90ZQ%3D%3D?line=16'>17</a>\u001b[0m return_list \u001b[39m=\u001b[39m train_on_policy_agent(env, agent, num_episodes)\n\u001b[1;32m     <a href='vscode-notebook-cell://wsl%2Bubuntu-22.04/home/tianshu/LearningReinforcementByHand/10-TRPO/main.ipynb#W4sdnNjb2RlLXJlbW90ZQ%3D%3D?line=18'>19</a>\u001b[0m episodes_list \u001b[39m=\u001b[39m \u001b[39mlist\u001b[39m(\u001b[39mrange\u001b[39m(\u001b[39mlen\u001b[39m(return_list)))\n\u001b[1;32m     <a href='vscode-notebook-cell://wsl%2Bubuntu-22.04/home/tianshu/LearningReinforcementByHand/10-TRPO/main.ipynb#W4sdnNjb2RlLXJlbW90ZQ%3D%3D?line=19'>20</a>\u001b[0m plt\u001b[39m.\u001b[39mplot(episodes_list, return_list)\n",
      "\u001b[1;32m/home/tianshu/LearningReinforcementByHand/10-TRPO/main.ipynb Cell 5\u001b[0m line \u001b[0;36m4\n\u001b[1;32m     <a href='vscode-notebook-cell://wsl%2Bubuntu-22.04/home/tianshu/LearningReinforcementByHand/10-TRPO/main.ipynb#W4sdnNjb2RlLXJlbW90ZQ%3D%3D?line=41'>42</a>\u001b[0m     episode_return \u001b[39m+\u001b[39m\u001b[39m=\u001b[39m reward\n\u001b[1;32m     <a href='vscode-notebook-cell://wsl%2Bubuntu-22.04/home/tianshu/LearningReinforcementByHand/10-TRPO/main.ipynb#W4sdnNjb2RlLXJlbW90ZQ%3D%3D?line=42'>43</a>\u001b[0m return_list\u001b[39m.\u001b[39mappend(episode_return)\n\u001b[0;32m---> <a href='vscode-notebook-cell://wsl%2Bubuntu-22.04/home/tianshu/LearningReinforcementByHand/10-TRPO/main.ipynb#W4sdnNjb2RlLXJlbW90ZQ%3D%3D?line=43'>44</a>\u001b[0m agent\u001b[39m.\u001b[39;49mupdate(transition_dict)\n\u001b[1;32m     <a href='vscode-notebook-cell://wsl%2Bubuntu-22.04/home/tianshu/LearningReinforcementByHand/10-TRPO/main.ipynb#W4sdnNjb2RlLXJlbW90ZQ%3D%3D?line=44'>45</a>\u001b[0m \u001b[39mif\u001b[39;00m (i_episode\u001b[39m+\u001b[39m\u001b[39m1\u001b[39m) \u001b[39m%\u001b[39m \u001b[39m10\u001b[39m \u001b[39m==\u001b[39m \u001b[39m0\u001b[39m:\n\u001b[1;32m     <a href='vscode-notebook-cell://wsl%2Bubuntu-22.04/home/tianshu/LearningReinforcementByHand/10-TRPO/main.ipynb#W4sdnNjb2RlLXJlbW90ZQ%3D%3D?line=45'>46</a>\u001b[0m     pbar\u001b[39m.\u001b[39mset_postfix({\u001b[39m'\u001b[39m\u001b[39mepisode\u001b[39m\u001b[39m'\u001b[39m: \u001b[39m'\u001b[39m\u001b[39m%d\u001b[39;00m\u001b[39m'\u001b[39m \u001b[39m%\u001b[39m (num_episodes\u001b[39m/\u001b[39m\u001b[39m10\u001b[39m \u001b[39m*\u001b[39m i \u001b[39m+\u001b[39m i_episode\u001b[39m+\u001b[39m\u001b[39m1\u001b[39m), \u001b[39m'\u001b[39m\u001b[39mreturn\u001b[39m\u001b[39m'\u001b[39m: \u001b[39m'\u001b[39m\u001b[39m%.3f\u001b[39;00m\u001b[39m'\u001b[39m \u001b[39m%\u001b[39m np\u001b[39m.\u001b[39mmean(return_list[\u001b[39m-\u001b[39m\u001b[39m10\u001b[39m:])})\n",
      "\u001b[1;32m/home/tianshu/LearningReinforcementByHand/10-TRPO/main.ipynb Cell 5\u001b[0m line \u001b[0;36m1\n\u001b[1;32m    <a href='vscode-notebook-cell://wsl%2Bubuntu-22.04/home/tianshu/LearningReinforcementByHand/10-TRPO/main.ipynb#W4sdnNjb2RlLXJlbW90ZQ%3D%3D?line=155'>156</a>\u001b[0m \u001b[39mself\u001b[39m\u001b[39m.\u001b[39mcritic_optimizer\u001b[39m.\u001b[39mstep()  \u001b[39m# 更新价值函数\u001b[39;00m\n\u001b[1;32m    <a href='vscode-notebook-cell://wsl%2Bubuntu-22.04/home/tianshu/LearningReinforcementByHand/10-TRPO/main.ipynb#W4sdnNjb2RlLXJlbW90ZQ%3D%3D?line=156'>157</a>\u001b[0m \u001b[39m# 更新策略函数\u001b[39;00m\n\u001b[0;32m--> <a href='vscode-notebook-cell://wsl%2Bubuntu-22.04/home/tianshu/LearningReinforcementByHand/10-TRPO/main.ipynb#W4sdnNjb2RlLXJlbW90ZQ%3D%3D?line=157'>158</a>\u001b[0m \u001b[39mself\u001b[39;49m\u001b[39m.\u001b[39;49mpolicy_learn(states, actions, old_action_dists, old_log_probs,\n\u001b[1;32m    <a href='vscode-notebook-cell://wsl%2Bubuntu-22.04/home/tianshu/LearningReinforcementByHand/10-TRPO/main.ipynb#W4sdnNjb2RlLXJlbW90ZQ%3D%3D?line=158'>159</a>\u001b[0m                   advantage)\n",
      "\u001b[1;32m/home/tianshu/LearningReinforcementByHand/10-TRPO/main.ipynb Cell 5\u001b[0m line \u001b[0;36m1\n\u001b[1;32m    <a href='vscode-notebook-cell://wsl%2Bubuntu-22.04/home/tianshu/LearningReinforcementByHand/10-TRPO/main.ipynb#W4sdnNjb2RlLXJlbW90ZQ%3D%3D?line=116'>117</a>\u001b[0m obj_grad \u001b[39m=\u001b[39m torch\u001b[39m.\u001b[39mcat([grad\u001b[39m.\u001b[39mview(\u001b[39m-\u001b[39m\u001b[39m1\u001b[39m) \u001b[39mfor\u001b[39;00m grad \u001b[39min\u001b[39;00m grads])\u001b[39m.\u001b[39mdetach()\n\u001b[1;32m    <a href='vscode-notebook-cell://wsl%2Bubuntu-22.04/home/tianshu/LearningReinforcementByHand/10-TRPO/main.ipynb#W4sdnNjb2RlLXJlbW90ZQ%3D%3D?line=117'>118</a>\u001b[0m \u001b[39m# 用共轭梯度法计算x = H^(-1)g\u001b[39;00m\n\u001b[0;32m--> <a href='vscode-notebook-cell://wsl%2Bubuntu-22.04/home/tianshu/LearningReinforcementByHand/10-TRPO/main.ipynb#W4sdnNjb2RlLXJlbW90ZQ%3D%3D?line=118'>119</a>\u001b[0m descent_direction \u001b[39m=\u001b[39m \u001b[39mself\u001b[39;49m\u001b[39m.\u001b[39;49mconjugate_gradient(obj_grad, states,\n\u001b[1;32m    <a href='vscode-notebook-cell://wsl%2Bubuntu-22.04/home/tianshu/LearningReinforcementByHand/10-TRPO/main.ipynb#W4sdnNjb2RlLXJlbW90ZQ%3D%3D?line=119'>120</a>\u001b[0m                                             old_action_dists)\n\u001b[1;32m    <a href='vscode-notebook-cell://wsl%2Bubuntu-22.04/home/tianshu/LearningReinforcementByHand/10-TRPO/main.ipynb#W4sdnNjb2RlLXJlbW90ZQ%3D%3D?line=121'>122</a>\u001b[0m Hd \u001b[39m=\u001b[39m \u001b[39mself\u001b[39m\u001b[39m.\u001b[39mhessian_matrix_vector_product(states, old_action_dists,\n\u001b[1;32m    <a href='vscode-notebook-cell://wsl%2Bubuntu-22.04/home/tianshu/LearningReinforcementByHand/10-TRPO/main.ipynb#W4sdnNjb2RlLXJlbW90ZQ%3D%3D?line=122'>123</a>\u001b[0m                                         descent_direction)\n\u001b[1;32m    <a href='vscode-notebook-cell://wsl%2Bubuntu-22.04/home/tianshu/LearningReinforcementByHand/10-TRPO/main.ipynb#W4sdnNjb2RlLXJlbW90ZQ%3D%3D?line=123'>124</a>\u001b[0m max_coef \u001b[39m=\u001b[39m torch\u001b[39m.\u001b[39msqrt(\u001b[39m2\u001b[39m \u001b[39m*\u001b[39m \u001b[39mself\u001b[39m\u001b[39m.\u001b[39mkl_constraint \u001b[39m/\u001b[39m\n\u001b[1;32m    <a href='vscode-notebook-cell://wsl%2Bubuntu-22.04/home/tianshu/LearningReinforcementByHand/10-TRPO/main.ipynb#W4sdnNjb2RlLXJlbW90ZQ%3D%3D?line=124'>125</a>\u001b[0m                       (torch\u001b[39m.\u001b[39mdot(descent_direction, Hd) \u001b[39m+\u001b[39m \u001b[39m1e-8\u001b[39m))\n",
      "\u001b[1;32m/home/tianshu/LearningReinforcementByHand/10-TRPO/main.ipynb Cell 5\u001b[0m line \u001b[0;36m7\n\u001b[1;32m     <a href='vscode-notebook-cell://wsl%2Bubuntu-22.04/home/tianshu/LearningReinforcementByHand/10-TRPO/main.ipynb#W4sdnNjb2RlLXJlbW90ZQ%3D%3D?line=69'>70</a>\u001b[0m Hp \u001b[39m=\u001b[39m \u001b[39mself\u001b[39m\u001b[39m.\u001b[39mhessian_matrix_vector_product(states, old_action_dists,\n\u001b[1;32m     <a href='vscode-notebook-cell://wsl%2Bubuntu-22.04/home/tianshu/LearningReinforcementByHand/10-TRPO/main.ipynb#W4sdnNjb2RlLXJlbW90ZQ%3D%3D?line=70'>71</a>\u001b[0m                                         p)\n\u001b[1;32m     <a href='vscode-notebook-cell://wsl%2Bubuntu-22.04/home/tianshu/LearningReinforcementByHand/10-TRPO/main.ipynb#W4sdnNjb2RlLXJlbW90ZQ%3D%3D?line=71'>72</a>\u001b[0m alpha \u001b[39m=\u001b[39m rdotr \u001b[39m/\u001b[39m torch\u001b[39m.\u001b[39mdot(p, Hp)\n\u001b[0;32m---> <a href='vscode-notebook-cell://wsl%2Bubuntu-22.04/home/tianshu/LearningReinforcementByHand/10-TRPO/main.ipynb#W4sdnNjb2RlLXJlbW90ZQ%3D%3D?line=72'>73</a>\u001b[0m x \u001b[39m+\u001b[39m\u001b[39m=\u001b[39m alpha \u001b[39m*\u001b[39m p\n\u001b[1;32m     <a href='vscode-notebook-cell://wsl%2Bubuntu-22.04/home/tianshu/LearningReinforcementByHand/10-TRPO/main.ipynb#W4sdnNjb2RlLXJlbW90ZQ%3D%3D?line=73'>74</a>\u001b[0m r \u001b[39m-\u001b[39m\u001b[39m=\u001b[39m alpha \u001b[39m*\u001b[39m Hp\n\u001b[1;32m     <a href='vscode-notebook-cell://wsl%2Bubuntu-22.04/home/tianshu/LearningReinforcementByHand/10-TRPO/main.ipynb#W4sdnNjb2RlLXJlbW90ZQ%3D%3D?line=74'>75</a>\u001b[0m new_rdotr \u001b[39m=\u001b[39m torch\u001b[39m.\u001b[39mdot(r, r)\n",
      "\u001b[0;31mKeyboardInterrupt\u001b[0m: "
     ]
    },
    {
     "ename": "",
     "evalue": "",
     "output_type": "error",
     "traceback": [
      "\u001b[1;31mThe Kernel crashed while executing code in the the current cell or a previous cell. Please review the code in the cell(s) to identify a possible cause of the failure. Click <a href='https://aka.ms/vscodeJupyterKernelCrash'>here</a> for more info. View Jupyter <a href='command:jupyter.viewOutput'>log</a> for further details."
     ]
    }
   ],
   "source": [
    "num_episodes = 500\n",
    "hidden_dim = 128\n",
    "gamma = 0.98\n",
    "lmbda = 0.95\n",
    "critic_lr = 1e-2\n",
    "kl_constraint = 0.0005\n",
    "alpha = 0.5\n",
    "device = torch.device(\"cuda\") if torch.cuda.is_available() else torch.device(\n",
    "    \"cpu\")\n",
    "\n",
    "env_name = 'CartPole-v0'\n",
    "env = gym.make(env_name)\n",
    "env.seed(0)\n",
    "torch.manual_seed(0)\n",
    "agent = TRPO(hidden_dim, env.observation_space, env.action_space, lmbda,\n",
    "             kl_constraint, alpha, critic_lr, gamma, device)\n",
    "return_list = train_on_policy_agent(env, agent, num_episodes)\n",
    "\n",
    "episodes_list = list(range(len(return_list)))\n",
    "plt.plot(episodes_list, return_list)\n",
    "plt.xlabel('Episodes')\n",
    "plt.ylabel('Returns')\n",
    "plt.title('TRPO on {}'.format(env_name))\n",
    "plt.show()\n",
    "\n",
    "mv_return = moving_average(return_list, 9)\n",
    "plt.plot(episodes_list, mv_return)\n",
    "plt.xlabel('Episodes')\n",
    "plt.ylabel('Returns')\n",
    "plt.title('TRPO on {}'.format(env_name))\n",
    "plt.show()"
   ]
  },
  {
   "cell_type": "code",
   "execution_count": 9,
   "metadata": {},
   "outputs": [
    {
     "name": "stderr",
     "output_type": "stream",
     "text": [
      "Iteration 0: 100%|██████████| 1/1 [00:00<00:00,  5.76it/s]\n"
     ]
    },
    {
     "name": "stdout",
     "output_type": "stream",
     "text": [
      "torch.Size([200, 1])\n"
     ]
    },
    {
     "name": "stderr",
     "output_type": "stream",
     "text": [
      "Iteration 1: 100%|██████████| 1/1 [00:00<00:00,  6.67it/s]\n"
     ]
    },
    {
     "name": "stdout",
     "output_type": "stream",
     "text": [
      "torch.Size([200, 1])\n"
     ]
    },
    {
     "name": "stderr",
     "output_type": "stream",
     "text": [
      "Iteration 2: 100%|██████████| 1/1 [00:00<00:00,  6.66it/s]\n"
     ]
    },
    {
     "name": "stdout",
     "output_type": "stream",
     "text": [
      "torch.Size([200, 1])\n"
     ]
    },
    {
     "name": "stderr",
     "output_type": "stream",
     "text": [
      "Iteration 3: 100%|██████████| 1/1 [00:00<00:00,  7.05it/s]\n"
     ]
    },
    {
     "name": "stdout",
     "output_type": "stream",
     "text": [
      "torch.Size([200, 1])\n"
     ]
    },
    {
     "name": "stderr",
     "output_type": "stream",
     "text": [
      "Iteration 4: 100%|██████████| 1/1 [00:00<00:00,  7.41it/s]\n"
     ]
    },
    {
     "name": "stdout",
     "output_type": "stream",
     "text": [
      "torch.Size([200, 1])\n"
     ]
    },
    {
     "name": "stderr",
     "output_type": "stream",
     "text": [
      "Iteration 5: 100%|██████████| 1/1 [00:00<00:00,  7.20it/s]\n"
     ]
    },
    {
     "name": "stdout",
     "output_type": "stream",
     "text": [
      "torch.Size([200, 1])\n"
     ]
    },
    {
     "name": "stderr",
     "output_type": "stream",
     "text": [
      "Iteration 6: 100%|██████████| 1/1 [00:00<00:00,  6.61it/s]\n"
     ]
    },
    {
     "name": "stdout",
     "output_type": "stream",
     "text": [
      "torch.Size([200, 1])\n"
     ]
    },
    {
     "name": "stderr",
     "output_type": "stream",
     "text": [
      "Iteration 7: 100%|██████████| 1/1 [00:00<00:00,  7.28it/s]\n"
     ]
    },
    {
     "name": "stdout",
     "output_type": "stream",
     "text": [
      "torch.Size([200, 1])\n"
     ]
    },
    {
     "name": "stderr",
     "output_type": "stream",
     "text": [
      "Iteration 8: 100%|██████████| 1/1 [00:00<00:00,  7.04it/s]\n"
     ]
    },
    {
     "name": "stdout",
     "output_type": "stream",
     "text": [
      "torch.Size([200, 1])\n"
     ]
    },
    {
     "name": "stderr",
     "output_type": "stream",
     "text": [
      "Iteration 9: 100%|██████████| 1/1 [00:00<00:00,  6.58it/s]"
     ]
    },
    {
     "name": "stdout",
     "output_type": "stream",
     "text": [
      "torch.Size([200, 1])\n"
     ]
    },
    {
     "name": "stderr",
     "output_type": "stream",
     "text": [
      "\n"
     ]
    }
   ],
   "source": [
    "return_list = train_on_policy_agent(env, agent, 10)"
   ]
  },
  {
   "cell_type": "code",
   "execution_count": 5,
   "metadata": {},
   "outputs": [],
   "source": [
    "class PolicyNetContinuous(torch.nn.Module):\n",
    "    def __init__(self, state_dim, hidden_dim, action_dim):\n",
    "        super(PolicyNetContinuous, self).__init__()\n",
    "        self.fc1 = torch.nn.Linear(state_dim, hidden_dim)\n",
    "        self.fc_mu = torch.nn.Linear(hidden_dim, action_dim)\n",
    "        self.fc_std = torch.nn.Linear(hidden_dim, action_dim)\n",
    "\n",
    "    def forward(self, x):\n",
    "        x = F.relu(self.fc1(x))\n",
    "        mu = 2.0 * torch.tanh(self.fc_mu(x))\n",
    "        std = F.softplus(self.fc_std(x))\n",
    "        return mu, std  # 高斯分布的均值和标准差\n",
    "\n",
    "\n",
    "class TRPOContinuous:\n",
    "    \"\"\" 处理连续动作的TRPO算法 \"\"\"\n",
    "    def __init__(self, hidden_dim, state_space, action_space, lmbda,\n",
    "                 kl_constraint, alpha, critic_lr, gamma, device):\n",
    "        state_dim = state_space.shape[0]\n",
    "        action_dim = action_space.shape[0]\n",
    "        self.actor = PolicyNetContinuous(state_dim, hidden_dim,\n",
    "                                         action_dim).to(device)\n",
    "        self.critic = ValueNet(state_dim, hidden_dim).to(device)\n",
    "        self.critic_optimizer = torch.optim.Adam(self.critic.parameters(),\n",
    "                                                 lr=critic_lr)\n",
    "        self.gamma = gamma\n",
    "        self.lmbda = lmbda\n",
    "        self.kl_constraint = kl_constraint\n",
    "        self.alpha = alpha\n",
    "        self.device = device\n",
    "\n",
    "    def take_action(self, state):\n",
    "        state = torch.tensor([state], dtype=torch.float).to(self.device)\n",
    "        mu, std = self.actor(state)\n",
    "        action_dist = torch.distributions.Normal(mu, std)\n",
    "        action = action_dist.sample()\n",
    "        return [action.item()]\n",
    "\n",
    "    def hessian_matrix_vector_product(self,\n",
    "                                      states,\n",
    "                                      old_action_dists,\n",
    "                                      vector,\n",
    "                                      damping=0.1):\n",
    "        mu, std = self.actor(states)\n",
    "        new_action_dists = torch.distributions.Normal(mu, std)\n",
    "        kl = torch.mean(\n",
    "            torch.distributions.kl.kl_divergence(old_action_dists,\n",
    "                                                 new_action_dists))\n",
    "        kl_grad = torch.autograd.grad(kl,\n",
    "                                      self.actor.parameters(),\n",
    "                                      create_graph=True)\n",
    "        kl_grad_vector = torch.cat([grad.view(-1) for grad in kl_grad])\n",
    "        kl_grad_vector_product = torch.dot(kl_grad_vector, vector)\n",
    "        grad2 = torch.autograd.grad(kl_grad_vector_product,\n",
    "                                    self.actor.parameters())\n",
    "        grad2_vector = torch.cat(\n",
    "            [grad.contiguous().view(-1) for grad in grad2])\n",
    "        return grad2_vector + damping * vector\n",
    "\n",
    "    def conjugate_gradient(self, grad, states, old_action_dists):\n",
    "        x = torch.zeros_like(grad)\n",
    "        r = grad.clone()\n",
    "        p = grad.clone()\n",
    "        rdotr = torch.dot(r, r)\n",
    "        for i in range(10):\n",
    "            Hp = self.hessian_matrix_vector_product(states, old_action_dists,\n",
    "                                                    p)\n",
    "            alpha = rdotr / torch.dot(p, Hp)\n",
    "            x += alpha * p\n",
    "            r -= alpha * Hp\n",
    "            new_rdotr = torch.dot(r, r)\n",
    "            if new_rdotr < 1e-10:\n",
    "                break\n",
    "            beta = new_rdotr / rdotr\n",
    "            p = r + beta * p\n",
    "            rdotr = new_rdotr\n",
    "        return x\n",
    "\n",
    "    def compute_surrogate_obj(self, states, actions, advantage, old_log_probs,\n",
    "                              actor):\n",
    "        mu, std = actor(states)\n",
    "        action_dists = torch.distributions.Normal(mu, std)\n",
    "        log_probs = action_dists.log_prob(actions)\n",
    "        ratio = torch.exp(log_probs - old_log_probs)\n",
    "        return torch.mean(ratio * advantage)\n",
    "\n",
    "    def line_search(self, states, actions, advantage, old_log_probs,\n",
    "                    old_action_dists, max_vec):\n",
    "        old_para = torch.nn.utils.convert_parameters.parameters_to_vector(\n",
    "            self.actor.parameters())\n",
    "        old_obj = self.compute_surrogate_obj(states, actions, advantage,\n",
    "                                             old_log_probs, self.actor)\n",
    "        for i in range(15):\n",
    "            coef = self.alpha**i\n",
    "            new_para = old_para + coef * max_vec\n",
    "            new_actor = copy.deepcopy(self.actor)\n",
    "            torch.nn.utils.convert_parameters.vector_to_parameters(\n",
    "                new_para, new_actor.parameters())\n",
    "            mu, std = new_actor(states)\n",
    "            new_action_dists = torch.distributions.Normal(mu, std)\n",
    "            kl_div = torch.mean(\n",
    "                torch.distributions.kl.kl_divergence(old_action_dists,\n",
    "                                                     new_action_dists))\n",
    "            new_obj = self.compute_surrogate_obj(states, actions, advantage,\n",
    "                                                 old_log_probs, new_actor)\n",
    "            if new_obj > old_obj and kl_div < self.kl_constraint:\n",
    "                return new_para\n",
    "        return old_para\n",
    "\n",
    "    def policy_learn(self, states, actions, old_action_dists, old_log_probs,\n",
    "                     advantage):\n",
    "        surrogate_obj = self.compute_surrogate_obj(states, actions, advantage,\n",
    "                                                   old_log_probs, self.actor)\n",
    "        grads = torch.autograd.grad(surrogate_obj, self.actor.parameters())\n",
    "        obj_grad = torch.cat([grad.view(-1) for grad in grads]).detach()\n",
    "        descent_direction = self.conjugate_gradient(obj_grad, states,\n",
    "                                                    old_action_dists)\n",
    "        Hd = self.hessian_matrix_vector_product(states, old_action_dists,\n",
    "                                                descent_direction)\n",
    "        max_coef = torch.sqrt(2 * self.kl_constraint /\n",
    "                              (torch.dot(descent_direction, Hd) + 1e-8))\n",
    "        new_para = self.line_search(states, actions, advantage, old_log_probs,\n",
    "                                    old_action_dists,\n",
    "                                    descent_direction * max_coef)\n",
    "        torch.nn.utils.convert_parameters.vector_to_parameters(\n",
    "            new_para, self.actor.parameters())\n",
    "\n",
    "    def update(self, transition_dict):\n",
    "        states = torch.tensor(transition_dict['states'],\n",
    "                              dtype=torch.float).to(self.device)\n",
    "        actions = torch.tensor(transition_dict['actions'],\n",
    "                               dtype=torch.float).view(-1, 1).to(self.device)\n",
    "        rewards = torch.tensor(transition_dict['rewards'],\n",
    "                               dtype=torch.float).view(-1, 1).to(self.device)\n",
    "        next_states = torch.tensor(transition_dict['next_states'],\n",
    "                                   dtype=torch.float).to(self.device)\n",
    "        dones = torch.tensor(transition_dict['dones'],\n",
    "                             dtype=torch.float).view(-1, 1).to(self.device)\n",
    "        rewards = (rewards + 8.0) / 8.0  # 对奖励进行修改,方便训练\n",
    "        td_target = rewards + self.gamma * self.critic(next_states) * (1 -\n",
    "                                                                       dones)\n",
    "        td_delta = td_target - self.critic(states)\n",
    "        advantage = compute_advantage(self.gamma, self.lmbda,\n",
    "                                      td_delta.cpu()).to(self.device)\n",
    "        mu, std = self.actor(states)\n",
    "        old_action_dists = torch.distributions.Normal(mu.detach(),\n",
    "                                                      std.detach())\n",
    "        old_log_probs = old_action_dists.log_prob(actions)\n",
    "        critic_loss = torch.mean(\n",
    "            F.mse_loss(self.critic(states), td_target.detach()))\n",
    "        self.critic_optimizer.zero_grad()\n",
    "        critic_loss.backward()\n",
    "        self.critic_optimizer.step()\n",
    "        self.policy_learn(states, actions, old_action_dists, old_log_probs,\n",
    "                          advantage)"
   ]
  },
  {
   "cell_type": "code",
   "execution_count": 6,
   "metadata": {},
   "outputs": [
    {
     "ename": "DeprecatedEnv",
     "evalue": "Env Pendulum-v0 not found (valid versions include ['Pendulum-v1'])",
     "output_type": "error",
     "traceback": [
      "\u001b[0;31m---------------------------------------------------------------------------\u001b[0m",
      "\u001b[0;31mKeyError\u001b[0m                                  Traceback (most recent call last)",
      "File \u001b[0;32m~/miniconda3/envs/deeplearning/lib/python3.9/site-packages/gym/envs/registration.py:158\u001b[0m, in \u001b[0;36mEnvRegistry.spec\u001b[0;34m(self, path)\u001b[0m\n\u001b[1;32m    157\u001b[0m \u001b[39mtry\u001b[39;00m:\n\u001b[0;32m--> 158\u001b[0m     \u001b[39mreturn\u001b[39;00m \u001b[39mself\u001b[39;49m\u001b[39m.\u001b[39;49menv_specs[\u001b[39mid\u001b[39;49m]\n\u001b[1;32m    159\u001b[0m \u001b[39mexcept\u001b[39;00m \u001b[39mKeyError\u001b[39;00m:\n\u001b[1;32m    160\u001b[0m     \u001b[39m# Parse the env name and check to see if it matches the non-version\u001b[39;00m\n\u001b[1;32m    161\u001b[0m     \u001b[39m# part of a valid env (could also check the exact number here)\u001b[39;00m\n",
      "\u001b[0;31mKeyError\u001b[0m: 'Pendulum-v0'",
      "\nDuring handling of the above exception, another exception occurred:\n",
      "\u001b[0;31mDeprecatedEnv\u001b[0m                             Traceback (most recent call last)",
      "\u001b[1;32m/home/tianshu/LearningReinforcementByHand/10-TRPO/main.ipynb Cell 7\u001b[0m line \u001b[0;36m1\n\u001b[1;32m      <a href='vscode-notebook-cell://wsl%2Bubuntu-22.04/home/tianshu/LearningReinforcementByHand/10-TRPO/main.ipynb#W6sdnNjb2RlLXJlbW90ZQ%3D%3D?line=7'>8</a>\u001b[0m device \u001b[39m=\u001b[39m torch\u001b[39m.\u001b[39mdevice(\u001b[39m\"\u001b[39m\u001b[39mcuda\u001b[39m\u001b[39m\"\u001b[39m) \u001b[39mif\u001b[39;00m torch\u001b[39m.\u001b[39mcuda\u001b[39m.\u001b[39mis_available() \u001b[39melse\u001b[39;00m torch\u001b[39m.\u001b[39mdevice(\n\u001b[1;32m      <a href='vscode-notebook-cell://wsl%2Bubuntu-22.04/home/tianshu/LearningReinforcementByHand/10-TRPO/main.ipynb#W6sdnNjb2RlLXJlbW90ZQ%3D%3D?line=8'>9</a>\u001b[0m     \u001b[39m\"\u001b[39m\u001b[39mcpu\u001b[39m\u001b[39m\"\u001b[39m)\n\u001b[1;32m     <a href='vscode-notebook-cell://wsl%2Bubuntu-22.04/home/tianshu/LearningReinforcementByHand/10-TRPO/main.ipynb#W6sdnNjb2RlLXJlbW90ZQ%3D%3D?line=10'>11</a>\u001b[0m env_name \u001b[39m=\u001b[39m \u001b[39m'\u001b[39m\u001b[39mPendulum-v0\u001b[39m\u001b[39m'\u001b[39m\n\u001b[0;32m---> <a href='vscode-notebook-cell://wsl%2Bubuntu-22.04/home/tianshu/LearningReinforcementByHand/10-TRPO/main.ipynb#W6sdnNjb2RlLXJlbW90ZQ%3D%3D?line=11'>12</a>\u001b[0m env \u001b[39m=\u001b[39m gym\u001b[39m.\u001b[39;49mmake(env_name)\n\u001b[1;32m     <a href='vscode-notebook-cell://wsl%2Bubuntu-22.04/home/tianshu/LearningReinforcementByHand/10-TRPO/main.ipynb#W6sdnNjb2RlLXJlbW90ZQ%3D%3D?line=12'>13</a>\u001b[0m env\u001b[39m.\u001b[39mseed(\u001b[39m0\u001b[39m)\n\u001b[1;32m     <a href='vscode-notebook-cell://wsl%2Bubuntu-22.04/home/tianshu/LearningReinforcementByHand/10-TRPO/main.ipynb#W6sdnNjb2RlLXJlbW90ZQ%3D%3D?line=13'>14</a>\u001b[0m torch\u001b[39m.\u001b[39mmanual_seed(\u001b[39m0\u001b[39m)\n",
      "File \u001b[0;32m~/miniconda3/envs/deeplearning/lib/python3.9/site-packages/gym/envs/registration.py:235\u001b[0m, in \u001b[0;36mmake\u001b[0;34m(id, **kwargs)\u001b[0m\n\u001b[1;32m    234\u001b[0m \u001b[39mdef\u001b[39;00m \u001b[39mmake\u001b[39m(\u001b[39mid\u001b[39m, \u001b[39m*\u001b[39m\u001b[39m*\u001b[39mkwargs):\n\u001b[0;32m--> 235\u001b[0m     \u001b[39mreturn\u001b[39;00m registry\u001b[39m.\u001b[39;49mmake(\u001b[39mid\u001b[39;49m, \u001b[39m*\u001b[39;49m\u001b[39m*\u001b[39;49mkwargs)\n",
      "File \u001b[0;32m~/miniconda3/envs/deeplearning/lib/python3.9/site-packages/gym/envs/registration.py:128\u001b[0m, in \u001b[0;36mEnvRegistry.make\u001b[0;34m(self, path, **kwargs)\u001b[0m\n\u001b[1;32m    126\u001b[0m \u001b[39melse\u001b[39;00m:\n\u001b[1;32m    127\u001b[0m     logger\u001b[39m.\u001b[39minfo(\u001b[39m\"\u001b[39m\u001b[39mMaking new env: \u001b[39m\u001b[39m%s\u001b[39;00m\u001b[39m\"\u001b[39m, path)\n\u001b[0;32m--> 128\u001b[0m spec \u001b[39m=\u001b[39m \u001b[39mself\u001b[39;49m\u001b[39m.\u001b[39;49mspec(path)\n\u001b[1;32m    129\u001b[0m env \u001b[39m=\u001b[39m spec\u001b[39m.\u001b[39mmake(\u001b[39m*\u001b[39m\u001b[39m*\u001b[39mkwargs)\n\u001b[1;32m    130\u001b[0m \u001b[39mreturn\u001b[39;00m env\n",
      "File \u001b[0;32m~/miniconda3/envs/deeplearning/lib/python3.9/site-packages/gym/envs/registration.py:185\u001b[0m, in \u001b[0;36mEnvRegistry.spec\u001b[0;34m(self, path)\u001b[0m\n\u001b[1;32m    176\u001b[0m toytext_envs \u001b[39m=\u001b[39m [\n\u001b[1;32m    177\u001b[0m     \u001b[39m\"\u001b[39m\u001b[39mKellyCoinflip\u001b[39m\u001b[39m\"\u001b[39m,\n\u001b[1;32m    178\u001b[0m     \u001b[39m\"\u001b[39m\u001b[39mKellyCoinflipGeneralized\u001b[39m\u001b[39m\"\u001b[39m,\n\u001b[0;32m   (...)\u001b[0m\n\u001b[1;32m    182\u001b[0m     \u001b[39m\"\u001b[39m\u001b[39mHotterColder\u001b[39m\u001b[39m\"\u001b[39m,\n\u001b[1;32m    183\u001b[0m ]\n\u001b[1;32m    184\u001b[0m \u001b[39mif\u001b[39;00m matching_envs:\n\u001b[0;32m--> 185\u001b[0m     \u001b[39mraise\u001b[39;00m error\u001b[39m.\u001b[39mDeprecatedEnv(\n\u001b[1;32m    186\u001b[0m         \u001b[39m\"\u001b[39m\u001b[39mEnv \u001b[39m\u001b[39m{}\u001b[39;00m\u001b[39m not found (valid versions include \u001b[39m\u001b[39m{}\u001b[39;00m\u001b[39m)\u001b[39m\u001b[39m\"\u001b[39m\u001b[39m.\u001b[39mformat(\n\u001b[1;32m    187\u001b[0m             \u001b[39mid\u001b[39m, matching_envs\n\u001b[1;32m    188\u001b[0m         )\n\u001b[1;32m    189\u001b[0m     )\n\u001b[1;32m    190\u001b[0m \u001b[39melif\u001b[39;00m env_name \u001b[39min\u001b[39;00m algorithmic_envs:\n\u001b[1;32m    191\u001b[0m     \u001b[39mraise\u001b[39;00m error\u001b[39m.\u001b[39mUnregisteredEnv(\n\u001b[1;32m    192\u001b[0m         \u001b[39m\"\u001b[39m\u001b[39mAlgorithmic environment \u001b[39m\u001b[39m{}\u001b[39;00m\u001b[39m has been moved out of Gym. Install it via `pip install gym-algorithmic` and add `import gym_algorithmic` before using it.\u001b[39m\u001b[39m\"\u001b[39m\u001b[39m.\u001b[39mformat(\n\u001b[1;32m    193\u001b[0m             \u001b[39mid\u001b[39m\n\u001b[1;32m    194\u001b[0m         )\n\u001b[1;32m    195\u001b[0m     )\n",
      "\u001b[0;31mDeprecatedEnv\u001b[0m: Env Pendulum-v0 not found (valid versions include ['Pendulum-v1'])"
     ]
    }
   ],
   "source": [
    "num_episodes = 2000\n",
    "hidden_dim = 128\n",
    "gamma = 0.9\n",
    "lmbda = 0.9\n",
    "critic_lr = 1e-2\n",
    "kl_constraint = 0.00005\n",
    "alpha = 0.5\n",
    "device = torch.device(\"cuda\") if torch.cuda.is_available() else torch.device(\n",
    "    \"cpu\")\n",
    "\n",
    "env_name = 'Pendulum-v0'\n",
    "env = gym.make(env_name)\n",
    "env.seed(0)\n",
    "torch.manual_seed(0)\n",
    "agent = TRPOContinuous(hidden_dim, env.observation_space, env.action_space,\n",
    "                       lmbda, kl_constraint, alpha, critic_lr, gamma, device)\n",
    "return_list = train_on_policy_agent(env, agent, num_episodes)\n",
    "\n",
    "episodes_list = list(range(len(return_list)))\n",
    "plt.plot(episodes_list, return_list)\n",
    "plt.xlabel('Episodes')\n",
    "plt.ylabel('Returns')\n",
    "plt.title('TRPO on {}'.format(env_name))\n",
    "plt.show()\n",
    "\n",
    "mv_return = moving_average(return_list, 9)\n",
    "plt.plot(episodes_list, mv_return)\n",
    "plt.xlabel('Episodes')\n",
    "plt.ylabel('Returns')\n",
    "plt.title('TRPO on {}'.format(env_name))\n",
    "plt.show()"
   ]
  }
 ],
 "metadata": {
  "kernelspec": {
   "display_name": "deeplearning",
   "language": "python",
   "name": "python3"
  },
  "language_info": {
   "codemirror_mode": {
    "name": "ipython",
    "version": 3
   },
   "file_extension": ".py",
   "mimetype": "text/x-python",
   "name": "python",
   "nbconvert_exporter": "python",
   "pygments_lexer": "ipython3",
   "version": "3.9.16"
  }
 },
 "nbformat": 4,
 "nbformat_minor": 2
}
